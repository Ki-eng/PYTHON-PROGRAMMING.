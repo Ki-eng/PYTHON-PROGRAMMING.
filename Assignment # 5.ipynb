{
 "cells": [
  {
   "cell_type": "code",
   "execution_count": 1,
   "metadata": {},
   "outputs": [
    {
     "name": "stdout",
     "output_type": "stream",
     "text": [
      "Enter the number : \n",
      "4\n",
      "24\n"
     ]
    }
   ],
   "source": [
    "#Question no 1:\n",
    "def factorial(n):\n",
    "    num = 1\n",
    "    while n != 0 :\n",
    "        if n >= 0 :\n",
    "            num = num * n\n",
    "            n = n - 1\n",
    "        else :\n",
    "            num = \"factorial of negative numbers does not exist\"\n",
    "            break\n",
    "    return num \n",
    "print(factorial(int(input(\"Enter the number : \\n\"))))"
   ]
  },
  {
   "cell_type": "code",
   "execution_count": 2,
   "metadata": {},
   "outputs": [
    {
     "name": "stdout",
     "output_type": "stream",
     "text": [
      "Enter the string:Dawood University Of Engineering And Technology\n",
      "Original String :  Dawood University Of Engineering And Technology\n",
      "No. of Upper case characters :  6\n",
      "No. of Lower case Characters :  36\n"
     ]
    }
   ],
   "source": [
    "#Question No 2:\n",
    "def string_character_test(s):\n",
    "    d={\"UPPER_CASE\":0, \"LOWER_CASE\":0}\n",
    "    for c in s:\n",
    "        if c.isupper():\n",
    "           d[\"UPPER_CASE\"]+=1\n",
    "        elif c.islower():\n",
    "           d[\"LOWER_CASE\"]+=1\n",
    "        else:\n",
    "           pass\n",
    "    print (\"Original String : \", s)\n",
    "    print (\"No. of Upper case characters : \", d[\"UPPER_CASE\"])\n",
    "    print (\"No. of Lower case Characters : \", d[\"LOWER_CASE\"])\n",
    "userInput = input(\"Enter the string:\")    \n",
    "string_character_test(userInput)"
   ]
  },
  {
   "cell_type": "code",
   "execution_count": 4,
   "metadata": {},
   "outputs": [
    {
     "name": "stdout",
     "output_type": "stream",
     "text": [
      "[2, 4, 6, 8]\n"
     ]
    }
   ],
   "source": [
    "#Question no 3:\n",
    "def is_even_num(l):\n",
    "    even_num = []\n",
    "    for n in l:\n",
    "        if n % 2 == 0:\n",
    "            even_num.append(n)\n",
    "    return even_num\n",
    "print(is_even_num([1, 2, 3, 4, 5, 6, 7, 8, 9]))\n",
    " "
   ]
  },
  {
   "cell_type": "code",
   "execution_count": 5,
   "metadata": {},
   "outputs": [
    {
     "name": "stdout",
     "output_type": "stream",
     "text": [
      "Enter your palindromemaham\n",
      "Yes, maham is palindrome \n"
     ]
    }
   ],
   "source": [
    "#Question no 4:\n",
    "def check_Palindrome(s) :\n",
    "    if s[0].lower() == s[-1].lower() :\n",
    "        return print(\"Yes, \" + s + \" is palindrome \")\n",
    "    elif s[0] == s[-1] and s[1] == s[-2] :\n",
    "        return print(\"Yes, \" + s + \" is palindrome \")\n",
    "    else:\n",
    "        return print(\"No, \" + s + \" is not palindrome \")\n",
    "check_Palindrome(input(\"Enter your palindrome\"))"
   ]
  },
  {
   "cell_type": "code",
   "execution_count": 6,
   "metadata": {},
   "outputs": [
    {
     "name": "stdout",
     "output_type": "stream",
     "text": [
      "23 is a prime number\n"
     ]
    }
   ],
   "source": [
    "#Question no 5:\n",
    "num = 23\n",
    "bol = False\n",
    "ans = \"\"\n",
    "if num > 1:\n",
    "    if num == 2 or num == 4 :\n",
    "        ans = \"is not a prime number\"\n",
    "    else :\n",
    "        for i in range(2, num):\n",
    "            if (num % i) == 0 or i * (i + 1) == num:\n",
    "                bol = True\n",
    "else:\n",
    "    print(num, \"is not a prime number\")\n",
    "    \n",
    "if bol == True or ans == \"is not a prime number\":\n",
    "    print(num, \"is not a prime number\")\n",
    "else :\n",
    "    print(num, \"is a prime number\")"
   ]
  },
  {
   "cell_type": "code",
   "execution_count": 7,
   "metadata": {},
   "outputs": [
    {
     "name": "stdout",
     "output_type": "stream",
     "text": [
      "The original list is : ['Dress', 'Cosmetic', 'jewelerry']\n",
      "The first argument is : Dress\n",
      "The second argument is : Cosmetic\n",
      "The third argument is : jewelerry\n"
     ]
    }
   ],
   "source": [
    "#Question no 6:\n",
    "def customer_items(arg1, arg2, arg3): \n",
    "    print(\"The first argument is : \" +  str(arg1)) \n",
    "    print(\"The second argument is : \" +  str(arg2)) \n",
    "    print(\"The third argument is : \" +  str(arg3)) \n",
    "test_list = [\"Dress\" ,\"Cosmetic\", \"jewelerry\"]  \n",
    "print(\"The original list is : \" + str(test_list)) \n",
    "customer_items(*test_list) "
   ]
  },
  {
   "cell_type": "code",
   "execution_count": null,
   "metadata": {},
   "outputs": [],
   "source": []
  }
 ],
 "metadata": {
  "kernelspec": {
   "display_name": "Python 3",
   "language": "python",
   "name": "python3"
  },
  "language_info": {
   "codemirror_mode": {
    "name": "ipython",
    "version": 3
   },
   "file_extension": ".py",
   "mimetype": "text/x-python",
   "name": "python",
   "nbconvert_exporter": "python",
   "pygments_lexer": "ipython3",
   "version": "3.7.4"
  }
 },
 "nbformat": 4,
 "nbformat_minor": 2
}
