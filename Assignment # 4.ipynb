{
 "cells": [
  {
   "cell_type": "code",
   "execution_count": 1,
   "metadata": {},
   "outputs": [
    {
     "name": "stdout",
     "output_type": "stream",
     "text": [
      "FIRST_NAME : KIRAN\n",
      "LAST_NAME : SALEEM\n",
      "AGE : 23\n",
      "CITY : KARACHI\n",
      "\n",
      " ADD QUALIFICATION \n",
      "\n",
      "FIRST_NAME : KIRAN\n",
      "LAST_NAME : SALEEM\n",
      "AGE : 23\n",
      "CITY : KARACHI\n",
      "QUALIFICATION : GRADUATE\n",
      "\n",
      " UPDATE QUALIFICATION \n",
      "\n",
      "FIRST_NAME : KIRAN\n",
      "LAST_NAME : SALEEM\n",
      "AGE : 23\n",
      "CITY : KARACHI\n",
      "QUALIFICATION : B.E\n"
     ]
    }
   ],
   "source": [
    "#QUESTION NO 1\n",
    "person_dict={\"FIRST_NAME\":\"KIRAN\",\"LAST_NAME\":\"SALEEM\",\"AGE\":\"23\",\"CITY\":\"KARACHI\"}\n",
    "for key, value in person_dict.items():\n",
    "    print(key+\" : \"+value)\n",
    "print(\"\\n ADD QUALIFICATION \\n\")\n",
    "person_dict[\"QUALIFICATION\"]=\"GRADUATE\"\n",
    "for key, value in person_dict.items():\n",
    "    print(key+\" : \"+value)\n",
    "print(\"\\n UPDATE QUALIFICATION \\n\")\n",
    "person_dict[\"QUALIFICATION\"]=\"B.E\"\n",
    "for key, value in person_dict.items():\n",
    "    print(key+\" : \"+value)"
   ]
  },
  {
   "cell_type": "code",
   "execution_count": 6,
   "metadata": {},
   "outputs": [
    {
     "name": "stdout",
     "output_type": "stream",
     "text": [
      "\n",
      "LAHORE\n",
      "\n",
      "COUNTRY : PAKISTAN\n",
      "POPULATION : 12188000\n",
      "FACT : Lahore is the capital city of the Pakistani province of Punjab.\n",
      "\n",
      "KARACHI\n",
      "\n",
      "COUNTRY : PAKISTAN\n",
      "POPULATION : 15741000\n",
      "FACT : The city of Karachi is well-known to the world as the commercial and financial capital of Pakistan.\n",
      "\n",
      "ISLAMABAD\n",
      "\n",
      "COUNTRY : PAKISTAN\n",
      "POPULATION : 1095064\n",
      "FACT : Islamabad, city, capital of Pakistan, on the Potwar Plateau, 9 miles (14 km) northeast of Rawalpindi, the former interim capital.\n"
     ]
    }
   ],
   "source": [
    "#QUESTION NO 2\n",
    "cities={\n",
    "    \"LAHORE\":{\n",
    "        \"COUNTRY\":\"PAKISTAN\",\n",
    "        \"POPULATION\":12188000,\n",
    "        \"FACT\":\"Lahore is the capital city of the Pakistani province of Punjab.\"\n",
    "    },\n",
    "    \"KARACHI\":{\n",
    "        \"COUNTRY\":\"PAKISTAN\",\n",
    "        \"POPULATION\":15741000,\n",
    "        \"FACT\":\"The city of Karachi is well-known to the world as the commercial and financial capital of Pakistan.\"\n",
    "    },\n",
    "    \"ISLAMABAD\":{\n",
    "        \"COUNTRY\":\"PAKISTAN\",\n",
    "        \"POPULATION\":1095064,\n",
    "        \"FACT\":\"Islamabad, city, capital of Pakistan, on the Potwar Plateau, 9 miles (14 km) northeast of Rawalpindi, the former interim capital.\"\n",
    "    }\n",
    "}\n",
    "for citykey,cityinfo in cities.items():\n",
    "    print(\"\\n\"+citykey+\"\\n\")\n",
    "    for city in cityinfo:\n",
    "        print(city+\" : \"+str(cityinfo[city]))"
   ]
  },
  {
   "cell_type": "code",
   "execution_count": null,
   "metadata": {},
   "outputs": [
    {
     "name": "stdout",
     "output_type": "stream",
     "text": [
      "Enter Age : 3\n",
      "Ticket is 10$\n",
      "Are you want to take ticket? y/n: yes\n",
      "Enter Age : 9\n",
      "Ticket is 10$\n",
      "Are you want to take ticket? y/n: yes\n",
      "Enter Age : 15\n",
      "Ticket is 20$\n",
      "Are you want to take ticket? y/n: yes\n",
      "Enter Age : 1\n",
      "Ticket is free\n"
     ]
    }
   ],
   "source": [
    "QUESTION NO 3\n",
    "flag='y'\n",
    "while flag!='n':\n",
    "    age=int(input(\"Enter Age : \"))\n",
    "    if age>12:\n",
    "        print(\"Ticket is 20$\")\n",
    "    elif age>=3:\n",
    "        print(\"Ticket is 10$\")\n",
    "    else:\n",
    "        print(\"Ticket is free\")\n",
    "    flag=input(\"Are you want to take ticket? y/n: \")"
   ]
  },
  {
   "cell_type": "code",
   "execution_count": 1,
   "metadata": {},
   "outputs": [
    {
     "name": "stdout",
     "output_type": "stream",
     "text": [
      "Alchemist.\n"
     ]
    }
   ],
   "source": [
    "#QUESTION NO 4\n",
    "def favorite_book(title):\n",
    "    print(title)\n",
    "book_title=\"Alchemist.\"\n",
    "if(len(book_title)!=0):\n",
    "    favorite_book(book_title)\n",
    "else:\n",
    "    print(\"Please populate the book title\")"
   ]
  },
  {
   "cell_type": "code",
   "execution_count": null,
   "metadata": {},
   "outputs": [
    {
     "name": "stdout",
     "output_type": "stream",
     "text": [
      "Enter number between 0 and 40: 20\n",
      "Hidden number is Smaller\n",
      "\n",
      "Enter number between 0 and 40: 21\n",
      "Hidden number is greater\n",
      "\n",
      "Enter number between 0 and 40: 35\n",
      "Hidden number is Smaller\n",
      "\n"
     ]
    }
   ],
   "source": [
    "#QUESTION NO 5\n",
    "import random\n",
    "c=0\n",
    "rNumber=0\n",
    "while c<6:\n",
    "    rNumber=int(random.randrange(0,45))\n",
    "    userNumber=int(input(\"Enter number between 0 and 40: \"))\n",
    "    c=c+1\n",
    "    if rNumber>userNumber:\n",
    "        print(\"Hidden number is greater\\n\")\n",
    "    elif rNumber<userNumber:\n",
    "        print(\"Hidden number is Smaller\\n\")\n",
    "    else:\n",
    "        print(\"Hidden number is equal\\n\")"
   ]
  },
  {
   "cell_type": "code",
   "execution_count": null,
   "metadata": {},
   "outputs": [],
   "source": []
  }
 ],
 "metadata": {
  "kernelspec": {
   "display_name": "Python 3",
   "language": "python",
   "name": "python3"
  },
  "language_info": {
   "codemirror_mode": {
    "name": "ipython",
    "version": 3
   },
   "file_extension": ".py",
   "mimetype": "text/x-python",
   "name": "python",
   "nbconvert_exporter": "python",
   "pygments_lexer": "ipython3",
   "version": "3.7.4"
  }
 },
 "nbformat": 4,
 "nbformat_minor": 2
}
