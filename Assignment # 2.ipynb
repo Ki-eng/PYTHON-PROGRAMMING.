{
 "cells": [
  {
   "cell_type": "code",
   "execution_count": 1,
   "metadata": {},
   "outputs": [
    {
     "name": "stdout",
     "output_type": "stream",
     "text": [
      "Enter marks of Physics 67\n",
      "Enter marks of Maths: 71\n",
      "Enter marks of Chemistry: 65\n",
      "Enter marks of English: 62\n",
      "Enter marks of Pak Study: 68\n",
      "Grade: D\n"
     ]
    }
   ],
   "source": [
    "#Question no 1\n",
    "sub1=int(input(\"Enter marks of Physics \"))\n",
    "sub2=int(input(\"Enter marks of Maths: \"))\n",
    "sub3=int(input(\"Enter marks of Chemistry: \"))\n",
    "sub4=int(input(\"Enter marks of English: \"))\n",
    "sub5=int(input(\"Enter marks of Pak Study: \"))\n",
    "avg=float((sub1+sub2+sub3+sub4+sub5)/5)\n",
    "if(avg>=90):\n",
    "    print(\"Grade: A\")\n",
    "elif(avg>=80):\n",
    "    print(\"Grade: B\")\n",
    "elif(avg>=70):\n",
    "    print(\"Grade: C\")\n",
    "elif(avg>=60):\n",
    "    print(\"Grade: D\")\n",
    "else:\n",
    "    print(\"Grade: F\")"
   ]
  },
  {
   "cell_type": "code",
   "execution_count": 2,
   "metadata": {},
   "outputs": [
    {
     "name": "stdout",
     "output_type": "stream",
     "text": [
      "Enter a number: 45\n",
      "Given number is an odd number.\n"
     ]
    }
   ],
   "source": [
    "#Question no 2\n",
    "number = int(input(\"Enter a number: \"))\n",
    "mod = number % 2\n",
    "if mod > 0:\n",
    "    print(\"Given number is an odd number.\")\n",
    "else:\n",
    "    print(\"Given number is an even number.\")"
   ]
  },
  {
   "cell_type": "code",
   "execution_count": 3,
   "metadata": {},
   "outputs": [
    {
     "name": "stdout",
     "output_type": "stream",
     "text": [
      "The length of list is:  6\n"
     ]
    }
   ],
   "source": [
    "#Question no 3\n",
    "List = len([5, 2, 4, 6, 7, 3]) \n",
    "print(\"The length of list is: \", List) "
   ]
  },
  {
   "cell_type": "code",
   "execution_count": 4,
   "metadata": {},
   "outputs": [
    {
     "name": "stdout",
     "output_type": "stream",
     "text": [
      "25\n"
     ]
    }
   ],
   "source": [
    "#Question no 4\n",
    "def sum(Numbers):\n",
    "    total = 0\n",
    "    for x in Numbers:\n",
    "        total += x\n",
    "    return total\n",
    "print(sum((7, 5, 3, 8, 2)))"
   ]
  },
  {
   "cell_type": "code",
   "execution_count": 5,
   "metadata": {},
   "outputs": [
    {
     "name": "stdout",
     "output_type": "stream",
     "text": [
      "3\n",
      "1\n",
      "4\n",
      "2\n"
     ]
    }
   ],
   "source": [
    "#Question no 6\n",
    "a = [54, 3, 1, 4, 5, 2, 11, 41, 32, 13, 29]\n",
    "for i in a:\n",
    "    if i < 5:\n",
    "        print(i)"
   ]
  },
  {
   "cell_type": "code",
   "execution_count": 6,
   "metadata": {},
   "outputs": [
    {
     "name": "stdout",
     "output_type": "stream",
     "text": [
      "Largest element is: 73\n"
     ]
    }
   ],
   "source": [
    "#Question no 5\n",
    "list = [16, 45, 73, 13, 19, 32] \n",
    "print(\"Largest element is:\", max(list)) "
   ]
  },
  {
   "cell_type": "code",
   "execution_count": null,
   "metadata": {},
   "outputs": [],
   "source": []
  }
 ],
 "metadata": {
  "kernelspec": {
   "display_name": "Python 3",
   "language": "python",
   "name": "python3"
  },
  "language_info": {
   "codemirror_mode": {
    "name": "ipython",
    "version": 3
   },
   "file_extension": ".py",
   "mimetype": "text/x-python",
   "name": "python",
   "nbconvert_exporter": "python",
   "pygments_lexer": "ipython3",
   "version": "3.7.4"
  }
 },
 "nbformat": 4,
 "nbformat_minor": 2
}
