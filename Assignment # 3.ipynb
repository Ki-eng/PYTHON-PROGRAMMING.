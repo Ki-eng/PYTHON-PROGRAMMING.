{
 "cells": [
  {
   "cell_type": "code",
   "execution_count": 3,
   "metadata": {},
   "outputs": [
    {
     "name": "stdout",
     "output_type": "stream",
     "text": [
      "Please select operation -\n",
      "1. Add\n",
      "2. Subtract\n",
      "3. Multiply\n",
      "4. Divide\n",
      "\n",
      "Select operations form a, b, c, d :c\n",
      "Enter first number: 3\n",
      "Enter second number: 6\n",
      "3 * 6 = 18\n"
     ]
    }
   ],
   "source": [
    "#Question no 1\n",
    "#Function for addition\n",
    "def add(num1, num2): \n",
    "    return num1 + num2 \n",
    "  \n",
    "# Function for subtraction  \n",
    "def subtract(num1, num2): \n",
    "    return num1 - num2 \n",
    "  \n",
    "# Function for multiplication  \n",
    "def multiply(num1, num2): \n",
    "    return num1 * num2 \n",
    "  \n",
    "# Function for division  \n",
    "def divide(num1, num2): \n",
    "    return num1 / num2 \n",
    "  \n",
    "print(\"Please select operation -\\n\" \n",
    "        \"1. Add\\n\"  \n",
    "        \"2. Subtract\\n\"\n",
    "        \"3. Multiply\\n\"\n",
    "        \"4. Divide\\n\") \n",
    "  \n",
    "# Take input from the user  \n",
    "select = input(\"Select operations form a, b, c, d :\") \n",
    "  \n",
    "number_1 = int(input(\"Enter first number: \")) \n",
    "number_2 = int(input(\"Enter second number: \")) \n",
    "  \n",
    "if select == 'a': \n",
    "    print(number_, \"+\", number_2, \"=\", \n",
    "                    add(number_1, number_2)) \n",
    "  \n",
    "elif select == 'b': \n",
    "    print(number_1, \"-\", number_2, \"=\", \n",
    "                    subtract(number_1, number_2)) \n",
    "  \n",
    "elif select == 'c': \n",
    "    print(number_1, \"*\", number_2, \"=\", \n",
    "                    multiply(number_1, number_2)) \n",
    "  \n",
    "elif select == 'd': \n",
    "    print(number_1, \"/\", number_2, \"=\", \n",
    "                    divide(number_1, number_2)) \n",
    "else: \n",
    "    print(\"Invalid input\") "
   ]
  },
  {
   "cell_type": "code",
   "execution_count": 6,
   "metadata": {},
   "outputs": [
    {
     "name": "stdout",
     "output_type": "stream",
     "text": [
      "Checking if 8 exists in list : \n",
      "Number Exists\n"
     ]
    }
   ],
   "source": [
    "#Question no 2\n",
    "List = [ 5, 1, 8, 2, 6, 4 ] \n",
    "  \n",
    "print(\"Checking if 8 exists in list : \") \n",
    "for i in List: \n",
    "    if(i == 8) : \n",
    "        print (\"Number Exists\")\n"
   ]
  },
  {
   "cell_type": "code",
   "execution_count": 7,
   "metadata": {},
   "outputs": [
    {
     "name": "stdout",
     "output_type": "stream",
     "text": [
      "{0: 12, 1: 18}\n",
      "{0: 12, 1: 18, 2: 30}\n"
     ]
    }
   ],
   "source": [
    "#Question no 3\n",
    "d = {0:12, 1:18}\n",
    "print(d)\n",
    "d.update({2:30})\n",
    "print(d)\n"
   ]
  },
  {
   "cell_type": "code",
   "execution_count": 8,
   "metadata": {},
   "outputs": [
    {
     "name": "stdout",
     "output_type": "stream",
     "text": [
      "62\n"
     ]
    }
   ],
   "source": [
    "#Question no 4\n",
    "Dictionary = {'data1':45,'data2':64,'data3':-47}\n",
    "print(sum(Dictionary.values()))\n"
   ]
  },
  {
   "cell_type": "code",
   "execution_count": 11,
   "metadata": {},
   "outputs": [
    {
     "name": "stdout",
     "output_type": "stream",
     "text": [
      "[2, 3]\n"
     ]
    }
   ],
   "source": [
    "#Question no 5\n",
    "def Repeat(x): \n",
    "    Size = len(x) \n",
    "    repeated = [] \n",
    "    for i in range(Size): \n",
    "        k = i + 1\n",
    "        for j in range(k, Size): \n",
    "            if x[i] == x[j] and x[i] not in repeated: \n",
    "                repeated.append(x[i]) \n",
    "    return repeated  \n",
    "list1 = [5, 2, 6, 3, 2, 4, 9,  \n",
    "         3, -4, 8, 11, 7, 10] \n",
    "print (Repeat(list1)) "
   ]
  },
  {
   "cell_type": "code",
   "execution_count": 14,
   "metadata": {},
   "outputs": [
    {
     "name": "stdout",
     "output_type": "stream",
     "text": [
      "Key is present in the dictionary\n",
      "Key is not present in the dictionary\n"
     ]
    }
   ],
   "source": [
    "#Question no 6\n",
    "d = {1: 5, 2: 6, 3:7, 4: 8, 5: 9, 6: 11}\n",
    "def is_key_present(x):\n",
    "  if x in d:\n",
    "      print('Key is present in the dictionary')\n",
    "  else:\n",
    "      print('Key is not present in the dictionary')\n",
    "is_key_present(6)\n",
    "is_key_present(9)\n"
   ]
  },
  {
   "cell_type": "code",
   "execution_count": null,
   "metadata": {},
   "outputs": [],
   "source": []
  }
 ],
 "metadata": {
  "kernelspec": {
   "display_name": "Python 3",
   "language": "python",
   "name": "python3"
  },
  "language_info": {
   "codemirror_mode": {
    "name": "ipython",
    "version": 3
   },
   "file_extension": ".py",
   "mimetype": "text/x-python",
   "name": "python",
   "nbconvert_exporter": "python",
   "pygments_lexer": "ipython3",
   "version": "3.7.4"
  }
 },
 "nbformat": 4,
 "nbformat_minor": 2
}
